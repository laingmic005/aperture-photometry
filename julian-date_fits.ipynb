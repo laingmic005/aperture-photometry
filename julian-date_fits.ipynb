{
 "cells": [
  {
   "cell_type": "code",
   "execution_count": 9,
   "metadata": {},
   "outputs": [
    {
     "name": "stdout",
     "output_type": "stream",
     "text": [
      "SIMPLE  =                    T / conforms to FITS standard                      BITPIX  =                  -32 / array data type                                NAXIS   =                    2 / number of array dimensions                     NAXIS1  =                10000                                                  NAXIS2  =                10000                                                  EXTEND  =                    T                                                  CRPIX1  =     0.5003061426E+04                                                  CRPIX2  =     0.5000727417E+04                                                  CRVAL1  =     0.4806754200E+02                                                  CRVAL2  =    -0.5521622200E+02                                                  CTYPE1  = 'RA---TAN'                                                            CTYPE2  = 'DEC--TAN'                                                            CD1_1   =   -0.109849110E-04                                                    CD1_2   =    0.345800000E-08                                                    CD2_1   =   -0.110630000E-07                                                    CD2_2   =    0.109729720E-04                                                    TELESCOP= 'HST     '                                                            INSTRUME= 'ACS-WFC '                                                            FILTER  = 'F814W   '                                                            EXPTIME =               1800.0 / Total exposure time of stack (sec.)            RA_TARG =    48.06754166666666 / R.A. of cluster center (deg)                   DEC_TARG=   -55.21622222222223 / Dec. of cluster center (deg)                   RADESYS = 'FK5     '                                                            TARGNAME= 'NGC1261 '                                                            DATE-OBS= '2006-03-10T02:52:02' / Date at start of first stack exposure         EXPSTART=         53804.119468 / Date at start of first stack exposure [MJD]    EXPEND  =         53804.161528 / Date at end of last stack exposure [MJD]       HLSPACRN= 'HUGS    '                                                            CITATION= 'Nardiello+2018'                                                      D000DATA= 'j9l909p5q'          / Input HST observation ID to the stack.         D001DATA= 'j9l909p6q'          / Input HST observation ID to the stack.         D002DATA= 'j9l909p8q'          / Input HST observation ID to the stack.         D003DATA= 'j9l909paq'          / Input HST observation ID to the stack.         D004DATA= 'j9l909pcq'          / Input HST observation ID to the stack.         D005DATA= 'j9l909peq'          / Input HST observation ID to the stack.         CHECKSUM= '3TaQ4QYQ3QaQ3QWQ'   / HDU checksum updated 2018-07-20T11:35:54       DATASUM = '4185623860'         / data unit checksum updated 2018-07-20T11:35:54 END                                                                                                                                                                                                                                                                                                                                                                                                                                                                                                                                                                                                                                                                                                                                                                                                                                                                                                                                                                                                                                                                                                                                                                                                                                                                                                                                                                                                                                                                                                                                                                                                                                                                                                                                                                                                                                                                                                                                                                                                                                                                                                                                                                                                                                                                                                                                                                                                                                                                                                                                                                                                                                                                                                                                                                                                                                                                                                             \n"
     ]
    }
   ],
   "source": [
    "from astropy.io import fits\n",
    "\n",
    "hdul = fits.open('ngc1261.fits')\n",
    "print(hdul[0].header)"
   ]
  },
  {
   "cell_type": "code",
   "execution_count": 10,
   "metadata": {},
   "outputs": [
    {
     "name": "stdout",
     "output_type": "stream",
     "text": [
      "The Julian Date is 2453804.619467593\n"
     ]
    }
   ],
   "source": [
    "from astropy.time import Time\n",
    "\n",
    "date = hdul[0].header['DATE-OBS']\n",
    "julian_date = Time(date, format = 'isot', scale = 'utc').jd \n",
    "\n",
    "print(f\"The Julian Date is {julian_date}\")"
   ]
  }
 ],
 "metadata": {
  "kernelspec": {
   "display_name": "Python 3",
   "language": "python",
   "name": "python3"
  },
  "language_info": {
   "codemirror_mode": {
    "name": "ipython",
    "version": 3
   },
   "file_extension": ".py",
   "mimetype": "text/x-python",
   "name": "python",
   "nbconvert_exporter": "python",
   "pygments_lexer": "ipython3",
   "version": "3.10.11"
  }
 },
 "nbformat": 4,
 "nbformat_minor": 2
}
