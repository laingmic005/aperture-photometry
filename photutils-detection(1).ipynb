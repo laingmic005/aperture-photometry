{
 "cells": [
  {
   "cell_type": "code",
   "execution_count": null,
   "metadata": {},
   "outputs": [],
   "source": [
    "'''code carried over from L1_fits-handling.ipynb'''\n",
    "\n",
    "# open fits file and extract data\n",
    "from astropy.io import fits\n",
    "fits_file = fits.open('ngc1261.fits')\n",
    "image_data = fits_file[0].data\n",
    "\n",
    "# define section1 (the portion of the image that we will work with)\n",
    "section1 = image_data[2250:2650, 5350:5950]\n",
    "\n",
    "# plot section 1\n",
    "import matplotlib.pyplot as plt\n",
    "from matplotlib.colors import LogNorm\n",
    "plt.figure()\n",
    "plt.imshow(section1, origin = 'lower', cmap = 'Greys', norm = LogNorm())\n",
    "plt.colorbar()\n",
    "plt.show()"
   ]
  },
  {
   "cell_type": "code",
   "execution_count": null,
   "metadata": {},
   "outputs": [],
   "source": [
    "'''find mean, median, and standard deviation'''\n",
    "\n",
    "from astropy.stats import sigma_clipped_stats\n",
    "mean, median, std = sigma_clipped_stats(section1,sigma=3.0)\n",
    "# print data\n",
    "print((mean,median,std))"
   ]
  },
  {
   "cell_type": "code",
   "execution_count": null,
   "metadata": {},
   "outputs": [],
   "source": [
    "'''Use DAOStarFinder to detect stars'''\n",
    "\n",
    "from photutils.detection import DAOStarFinder\n",
    "\n",
    "# find stars that have a full-width-half-maximum of about 3 pixels and\n",
    "# are at least 5 sigma above the background level\n",
    "daofind = DAOStarFinder(fwhm = 3.0, threshold = 5.0*std)\n",
    "\n",
    "# define table named \"sources\"\n",
    "sources = daofind(section1 - median)\n",
    "\n",
    "# format sources table\n",
    "for col in sources.colnames:\n",
    "    if col not in ('id', 'npix'):\n",
    "        sources[col].info.format = '%.2f'\n",
    "\n",
    "# print table (make sure to use 'p-print' not just 'print')\n",
    "sources.pprint(max_width = 76)"
   ]
  },
  {
   "cell_type": "code",
   "execution_count": null,
   "metadata": {},
   "outputs": [],
   "source": [
    "'''visualize detected stars with matplotlib'''\n",
    "\n",
    "import numpy as np\n",
    "import matplotlib.pyplot as pyplot\n",
    "from matplotlib.colors import LogNorm\n",
    "from photutils.aperture import CircularAperture\n",
    "\n",
    "# define star positions based on sources table, then draw \n",
    "# apertures around each position (radius 15) and plot data\n",
    "positions = np.transpose((sources['xcentroid'], sources['ycentroid']))\n",
    "apertures = CircularAperture(positions, r = 15.0)\n",
    "plt.imshow(section1, cmap = 'Greys', origin = 'lower', norm = LogNorm(), interpolation = 'nearest')\n",
    "\n",
    "# draw apertures. apertures.plot command takes arguments (color, line-width, and opacity (alpha))\n",
    "apertures.plot(color = 'blue', lw = 1.5, alpha = 0.5)"
   ]
  },
  {
   "cell_type": "code",
   "execution_count": null,
   "metadata": {},
   "outputs": [],
   "source": [
    "'''Mask regions with bright stars'''"
   ]
  },
  {
   "cell_type": "code",
   "execution_count": null,
   "metadata": {},
   "outputs": [],
   "source": [
    "'''use find_peaks to detect stars'''\n",
    "\n",
    "from astropy.stats import sigma_clipped_stats\n",
    "from photutils.detection import find_peaks\n",
    "\n",
    "# define mean, median, and std\n",
    "mean, median, std = sigma_clipped_stats(section1, sigma = 3.0)\n",
    "\n",
    "# find stars that are at least 5 sigma above background and \n",
    "# separated by at least 5 pixels\n",
    "threshold = median + (5.0*std)\n",
    "\n",
    "# define, format, and print table of peak values\n",
    "tbl = find_peaks(section1, threshold, box_size = 11)\n",
    "tbl['peak_value'].info.format = '%8g'\n",
    "print(tbl)"
   ]
  },
  {
   "cell_type": "code",
   "execution_count": null,
   "metadata": {},
   "outputs": [],
   "source": [
    "'''visualize locations of detected peaks with matplotlib'''\n",
    "\n",
    "import numpy as np\n",
    "import matplotlib.pyplot as plt\n",
    "from astropy.visualization import LogNorm\n",
    "from photutils.aperture import CircularAperture\n",
    "\n",
    "# define positions based on peak table and plot data\n",
    "postitions = np.transpose((tbl['x_peak'], tbl['ypeak']))\n",
    "plt.imshow(section1, cmap = 'Greys', origin = 'lower', norm = LogNorm(), interpolation = 'nearest')\n",
    "\n",
    "# plot apertures, but change color to distinguish from DAOStarFinder data\n",
    "apertures.plot(color = 'red', lw = 1.5, alpha = 0.5)"
   ]
  },
  {
   "cell_type": "code",
   "execution_count": null,
   "metadata": {},
   "outputs": [],
   "source": [
    "'''Mask regions with bright stars'''"
   ]
  }
 ],
 "metadata": {
  "language_info": {
   "name": "python"
  },
  "orig_nbformat": 4
 },
 "nbformat": 4,
 "nbformat_minor": 2
}
